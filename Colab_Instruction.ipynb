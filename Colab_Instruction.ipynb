{
  "nbformat": 4,
  "nbformat_minor": 0,
  "metadata": {
    "colab": {
      "provenance": []
    },
    "kernelspec": {
      "name": "python3",
      "display_name": "Python 3"
    },
    "language_info": {
      "name": "python"
    }
  },
  "cells": [
    {
      "cell_type": "code",
      "source": [
        "# Tải source\n",
        "!git clone https://github.com/vinhhust2806/vehicle-retrival.git"
      ],
      "metadata": {
        "colab": {
          "base_uri": "https://localhost:8080/"
        },
        "id": "k1VNYUsFA8Xj",
        "outputId": "701243c8-a5b5-4d28-d2b4-95b28714108c"
      },
      "execution_count": 1,
      "outputs": [
        {
          "output_type": "stream",
          "name": "stdout",
          "text": [
            "Cloning into 'vehicle-retrival'...\n",
            "remote: Enumerating objects: 329, done.\u001b[K\n",
            "remote: Counting objects: 100% (198/198), done.\u001b[K\n",
            "remote: Compressing objects: 100% (180/180), done.\u001b[K\n",
            "remote: Total 329 (delta 111), reused 9 (delta 5), pack-reused 131\u001b[K\n",
            "Receiving objects: 100% (329/329), 50.37 MiB | 30.98 MiB/s, done.\n",
            "Resolving deltas: 100% (115/115), done.\n"
          ]
        }
      ]
    },
    {
      "cell_type": "code",
      "source": [
        "# Tải data về colab\n",
        "!gdown --id 1lYMXLjnWPDUxYDzd2TmeIv-HVK0P2QEE"
      ],
      "metadata": {
        "colab": {
          "base_uri": "https://localhost:8080/"
        },
        "id": "G2WtSPk3M7xg",
        "outputId": "9b4caba9-b939-4a55-828d-6488d00f4c92"
      },
      "execution_count": 2,
      "outputs": [
        {
          "output_type": "stream",
          "name": "stdout",
          "text": [
            "/usr/local/lib/python3.10/dist-packages/gdown/cli.py:138: FutureWarning: Option `--id` was deprecated in version 4.3.1 and will be removed in 5.0. You don't need to pass it anymore to use a file ID.\n",
            "  warnings.warn(\n",
            "Downloading...\n",
            "From (original): https://drive.google.com/uc?id=1lYMXLjnWPDUxYDzd2TmeIv-HVK0P2QEE\n",
            "From (redirected): https://drive.google.com/uc?id=1lYMXLjnWPDUxYDzd2TmeIv-HVK0P2QEE&confirm=t&uuid=2a325852-5f21-49f3-9893-48c97ad3ce0f\n",
            "To: /content/AIC22_Track2_NL_Retrieval.zip\n",
            "100% 16.2G/16.2G [02:49<00:00, 96.0MB/s]\n"
          ]
        }
      ]
    },
    {
      "cell_type": "code",
      "source": [
        "# Tạo folder lưu video data\n",
        "import os\n",
        "os.makedirs('/content/vehicle-retrival/testvideobox')"
      ],
      "metadata": {
        "id": "gSVvoy0yjulP"
      },
      "execution_count": 3,
      "outputs": []
    },
    {
      "cell_type": "code",
      "source": [
        "# unzip data vào folder chỉ định\n",
        "!unzip '/content/AIC22_Track2_NL_Retrieval.zip' -d 'vehicle-retrival/data'"
      ],
      "metadata": {
        "id": "OU7IE18cNvUa"
      },
      "execution_count": null,
      "outputs": []
    },
    {
      "cell_type": "code",
      "source": [
        "# extract frame từ các video data và lưu vào folder img1\n",
        "!python vehicle-retrival/preprocessing/extract_vdo_frms.py --data_root vehicle-retrival/data/train/S01\n",
        "!python vehicle-retrival/preprocessing/extract_vdo_frms.py --data_root vehicle-retrival/data/train/S03\n",
        "!python vehicle-retrival/preprocessing/extract_vdo_frms.py --data_root vehicle-retrival/data/train/S04\n",
        "!python vehicle-retrival/preprocessing/extract_vdo_frms.py --data_root vehicle-retrival/data/validation/S02\n",
        "!python vehicle-retrival/preprocessing/extract_vdo_frms.py --data_root vehicle-retrival/data/validation/S05\n"
      ],
      "metadata": {
        "id": "aqva1ULxCkNP"
      },
      "execution_count": null,
      "outputs": []
    },
    {
      "cell_type": "code",
      "source": [
        "# Tạo background cho toàn bộ video ( lấy 100 frame bất kì trong video rồi tính trung bình )\n",
        "!python vehicle-retrival/preprocessing/generate_median.py"
      ],
      "metadata": {
        "id": "9QoBYVueGQhz"
      },
      "execution_count": null,
      "outputs": []
    },
    {
      "cell_type": "code",
      "source": [
        "# Tạo text data cho train, validation và test\n",
        "!python vehicle-retrival/preprocessing/create_vrm_data.py"
      ],
      "metadata": {
        "id": "lbU2h9c6HeWO"
      },
      "execution_count": null,
      "outputs": []
    },
    {
      "cell_type": "code",
      "source": [
        "# Tạo video data cho train, validation và test\n",
        "!python vehicle-retrival/preprocessing/create_video_clip.py"
      ],
      "metadata": {
        "id": "6ePRi6CuIGz5"
      },
      "execution_count": null,
      "outputs": []
    },
    {
      "cell_type": "code",
      "source": [
        "# Train và test, các thông số có thể chỉnh trực tiếp trong file train.sh, test.sh ( đã giải thích ý nghĩa các thông số )\n",
        "%cd model/vrm\n",
        "!sh ./scripts/train.sh # train\n",
        "!sh ./scripts/test.sh  # test"
      ],
      "metadata": {
        "id": "B1j1-xvsk-4w"
      },
      "execution_count": null,
      "outputs": []
    }
  ]
}